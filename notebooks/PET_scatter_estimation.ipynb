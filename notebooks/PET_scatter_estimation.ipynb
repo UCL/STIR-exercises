{
 "cells": [
  {
   "cell_type": "code",
   "execution_count": null,
   "metadata": {
    "slideshow": {
     "slide_type": "slide"
    }
   },
   "outputs": [],
   "source": [
    "# -*- coding: utf-8 -*-\n",
    "\"\"\"\n",
    "Example script to serve as starting point for estimating scatter and evaluating scatter results\n",
    "\n",
    "This notebook reads in simulated data, runs the scatter estimation via Python (equivalent of the\n",
    "shell scrip t `run_scatter_0.sh`) and compares the results \n",
    "with the truth (i.e. simulation input and simulation scatter output)\n",
    "\n",
    "With this notebook you get an idea\n",
    "of what the scatter looks like and how accurate the scatter estimation is\n",
    "in the ideal case (i.e. where the model exactly matches the actual scatter generation).\n",
    "\n",
    "Prerequisite:\n",
    "You should have executed the following on your command prompt\n",
    "    ./run_simulations_thorax.sh\n",
    "\n",
    "Author: Kris Thielemans\n",
    "\"\"\""
   ]
  },
  {
   "cell_type": "code",
   "execution_count": null,
   "metadata": {},
   "outputs": [],
   "source": [
    "%matplotlib widget"
   ]
  },
  {
   "cell_type": "markdown",
   "metadata": {
    "slideshow": {
     "slide_type": "slide"
    }
   },
   "source": [
    "# Initial imports"
   ]
  },
  {
   "cell_type": "code",
   "execution_count": null,
   "metadata": {
    "slideshow": {
     "slide_type": "slide"
    }
   },
   "outputs": [],
   "source": [
    "import matplotlib.pyplot as plt\n",
    "import stir\n",
    "from stirextra import *\n",
    "import os"
   ]
  },
  {
   "cell_type": "markdown",
   "metadata": {
    "slideshow": {
     "slide_type": "slide"
    }
   },
   "source": [
    "# go to directory with input/output files"
   ]
  },
  {
   "cell_type": "code",
   "execution_count": null,
   "metadata": {
    "slideshow": {
     "slide_type": "slide"
    }
   },
   "outputs": [],
   "source": [
    "# adapt this path to your situation (or start everything in the exercises directory)\n",
    "os.chdir(os.getenv('STIR_exercises_PATH'))"
   ]
  },
  {
   "cell_type": "code",
   "execution_count": null,
   "metadata": {
    "slideshow": {
     "slide_type": "slide"
    }
   },
   "outputs": [],
   "source": [
    "os.chdir('working_folder/GATE1')"
   ]
  },
  {
   "cell_type": "markdown",
   "metadata": {},
   "source": [
    "# read in data from GATE1"
   ]
  },
  {
   "cell_type": "code",
   "execution_count": null,
   "metadata": {},
   "outputs": [],
   "source": [
    "prompts = stir.ProjData.read_from_file('my_prompts_g1.hs')\n",
    "atten_image = stir.FloatVoxelsOnCartesianGrid.read_from_file('CTAC_g1.hv')\n",
    "norm = stir.BinNormalisationFromProjData(stir.ProjData.read_from_file('my_norm_g1.hs'))\n",
    "acf_factors = stir.ProjData.read_from_file('my_acfs_g1.hs')\n",
    "randoms = stir.ProjData.read_from_file('my_randoms_g1.hs')"
   ]
  },
  {
   "cell_type": "markdown",
   "metadata": {},
   "source": [
    "# Perform scatter estimation"
   ]
  },
  {
   "cell_type": "code",
   "execution_count": null,
   "metadata": {},
   "outputs": [],
   "source": [
    "scatter_estimator = stir.ScatterEstimation()"
   ]
  },
  {
   "cell_type": "code",
   "execution_count": null,
   "metadata": {},
   "outputs": [],
   "source": [
    "filter = stir.SeparableGaussianImageFilter3DFloat()\n",
    "filter.set_fwhms(stir.make_FloatCoordinate(15,15,15))\n",
    "\n",
    "recon = stir.OSMAPOSLReconstruction3DFloat()\n",
    "recon.set_num_subsets(4)\n",
    "recon.set_num_subiterations(7)\n",
    "recon.set_disable_output(True)\n",
    "recon.set_post_processor_sptr(filter)\n",
    "objfunc = stir.PoissonLogLikelihoodWithLinearModelForMeanAndProjData3DFloat()\n",
    "recon.set_objective_function(objfunc)"
   ]
  },
  {
   "cell_type": "code",
   "execution_count": null,
   "metadata": {},
   "outputs": [],
   "source": [
    "scatter_estimator.set_input_data(prompts)\n",
    "scatter_estimator.set_attenuation_image_sptr(atten_image)\n",
    "scatter_estimator.set_background_proj_data_sptr(randoms)\n",
    "scatter_estimator.set_normalisation_sptr(norm)\n",
    "scatter_estimator.set_reconstruction_method_sptr(recon)\n",
    "scatter_estimator.set_attenuation_correction_proj_data_sptr(acf_factors)\n",
    "scatter_estimator.set_output_scatter_estimate_prefix('p_scatter')\n",
    "scatter_estimator.set_num_iterations(3)\n",
    "scatter_estimator.set_up()"
   ]
  },
  {
   "cell_type": "code",
   "execution_count": null,
   "metadata": {},
   "outputs": [],
   "source": [
    "scatter_estimator.process_data()"
   ]
  },
  {
   "cell_type": "code",
   "execution_count": null,
   "metadata": {},
   "outputs": [],
   "source": [
    "estimated_scatter = scatter_estimator.get_output()\n",
    "estimated_scatter.write_to_file('scatter_estimate_run0.hs')"
   ]
  },
  {
   "cell_type": "markdown",
   "metadata": {
    "slideshow": {
     "slide_type": "slide"
    }
   },
   "source": [
    "# read in data from simulation and compare"
   ]
  },
  {
   "cell_type": "code",
   "execution_count": null,
   "metadata": {
    "slideshow": {
     "slide_type": "slide"
    }
   },
   "outputs": [],
   "source": [
    "# original scatter as generated by the simulation\n",
    "org_scatter=stir.ProjData.read_from_file('my_scatter_g1.hs')\n",
    "org_scatter_arr=to_numpy(org_scatter)\n",
    "# estimated scatter\n",
    "estimated_scatter_arr = to_numpy(stir.ProjData.read_from_file('scatter_estimate_run0.hs'));"
   ]
  },
  {
   "cell_type": "code",
   "execution_count": null,
   "metadata": {
    "slideshow": {
     "slide_type": "slide"
    }
   },
   "outputs": [],
   "source": [
    "maxforplot=org_scatter_arr.max()*1.1;\n",
    "\n",
    "plt.figure()\n",
    "ax=plt.subplot(1,2,1);\n",
    "plt.imshow(org_scatter_arr[0,10,:,:,]);\n",
    "plt.clim(0,maxforplot)\n",
    "ax.set_title('Original simulated scatter');\n",
    "plt.axis('off');\n",
    "\n",
    "ax=plt.subplot(1,2,2);\n",
    "plt.imshow(estimated_scatter_arr[0,10,:,:,]);\n",
    "plt.clim(0,maxforplot);\n",
    "ax.set_title('estimated scatter');\n",
    "plt.axis('off');"
   ]
  },
  {
   "cell_type": "markdown",
   "metadata": {
    "slideshow": {
     "slide_type": "slide"
    }
   },
   "source": [
    "# Display profiles through the sinogram"
   ]
  },
  {
   "cell_type": "code",
   "execution_count": null,
   "metadata": {
    "slideshow": {
     "slide_type": "slide"
    }
   },
   "outputs": [],
   "source": [
    "# central (over views)\n",
    "plt.figure()\n",
    "plt.plot(org_scatter_arr[0,10,:,192//2],'b', label='simulated')\n",
    "plt.plot(estimated_scatter_arr[0,10,:,192//2],'c', label='estimated')\n",
    "plt.legend();"
   ]
  },
  {
   "cell_type": "code",
   "execution_count": null,
   "metadata": {
    "slideshow": {
     "slide_type": "slide"
    }
   },
   "outputs": [],
   "source": [
    "# horizontal (one view)\n",
    "plt.figure()\n",
    "plt.plot(org_scatter_arr[0,10,1,:],'b', label='simulated')\n",
    "plt.plot(estimated_scatter_arr[0,10,1,:],'c', label='estimated')\n",
    "plt.legend();"
   ]
  },
  {
   "cell_type": "markdown",
   "metadata": {},
   "source": [
    "The above plot seems to indicates that (at least in STIR 6.2) the default template used for the scatter estimation is too narrow for this scanner. This could be corrected by passing an explicit narrow."
   ]
  },
  {
   "cell_type": "markdown",
   "metadata": {
    "slideshow": {
     "slide_type": "slide"
    }
   },
   "source": [
    "# Reconstruct images with estimated and original scatter"
   ]
  },
  {
   "cell_type": "markdown",
   "metadata": {},
   "source": [
    "Construct \"normalisation\" object that also contains the ACFs. Currently, `ChainedBinNormalisation` is not yet availabel in STIR Python, so need to do this manually."
   ]
  },
  {
   "cell_type": "code",
   "execution_count": null,
   "metadata": {},
   "outputs": [],
   "source": [
    "full_norm_projdata =  stir.ProjDataInMemory(acf_factors)\n",
    "norm.apply(full_norm_projdata)\n",
    "full_norm = stir.BinNormalisationFromProjData(full_norm_projdata)\n",
    "full_norm.set_up(prompts.get_exam_info(), prompts.get_proj_data_info())"
   ]
  },
  {
   "cell_type": "markdown",
   "metadata": {},
   "source": [
    "construct additive sinogram"
   ]
  },
  {
   "cell_type": "code",
   "execution_count": null,
   "metadata": {},
   "outputs": [],
   "source": [
    "background = stir.ProjDataInMemory(randoms) + stir.ProjDataInMemory(estimated_scatter)\n",
    "additive_term = stir.ProjDataInMemory(background)\n",
    "full_norm.apply(additive_term)"
   ]
  },
  {
   "cell_type": "code",
   "execution_count": null,
   "metadata": {},
   "outputs": [],
   "source": [
    "osem = stir.OSMAPOSLReconstruction3DFloat()\n",
    "osem.set_num_subsets(8)\n",
    "osem.set_num_subiterations(96)\n",
    "osem.set_disable_output(True)\n",
    "#osem.set_post_processor_sptr(filter)\n",
    "objfunc = stir.PoissonLogLikelihoodWithLinearModelForMeanAndProjData3DFloat()\n",
    "osem.set_objective_function(objfunc)\n",
    "objfunc.set_input_data(prompts)\n",
    "objfunc.set_normalisation_sptr(full_norm)\n",
    "objfunc.set_additive_proj_data_sptr(additive_term)"
   ]
  },
  {
   "cell_type": "code",
   "execution_count": null,
   "metadata": {},
   "outputs": [],
   "source": [
    "initial_image = stir.FloatVoxelsOnCartesianGrid(prompts.get_exam_info(), prompts.get_proj_data_info())\n",
    "initial_image.fill(1)"
   ]
  },
  {
   "cell_type": "code",
   "execution_count": null,
   "metadata": {},
   "outputs": [],
   "source": [
    "osem.set_up(initial_image)"
   ]
  },
  {
   "cell_type": "code",
   "execution_count": null,
   "metadata": {},
   "outputs": [],
   "source": [
    "osem.reconstruct()"
   ]
  },
  {
   "cell_type": "code",
   "execution_count": null,
   "metadata": {},
   "outputs": [],
   "source": [
    "osem_image = osem.get_target_image()"
   ]
  },
  {
   "cell_type": "code",
   "execution_count": null,
   "metadata": {
    "slideshow": {
     "slide_type": "slide"
    }
   },
   "outputs": [],
   "source": [
    "org_image=to_numpy(stir.FloatVoxelsOnCartesianGrid.read_from_file('OSEM_recon_with_actual_scatter_96.hv'))\n",
    "recon_image = stir.FloatVoxelsOnCartesianGrid.read_from_file('OSEM_recon_with_estimated_scatter_96_run0.hv')\n",
    "result=to_numpy(recon_image)"
   ]
  },
  {
   "cell_type": "code",
   "execution_count": null,
   "metadata": {},
   "outputs": [],
   "source": [
    "osem_image_arr = to_numpy(osem_image)"
   ]
  },
  {
   "cell_type": "code",
   "execution_count": null,
   "metadata": {},
   "outputs": [],
   "source": [
    "org_additive_term = stir.ProjData.read_from_file('my_additive_sinogram_g1.hs')\n",
    "objfunc.set_additive_proj_data_sptr(org_additive_term)\n",
    "osem.set_start_subset_num(0)\n",
    "osem.set_num_subiterations(96)\n",
    "osem.reconstruct()\n",
    "org_recon = osem.get_target_image()"
   ]
  },
  {
   "cell_type": "code",
   "execution_count": null,
   "metadata": {},
   "outputs": [],
   "source": [
    "org_image_arr = to_numpy(org_recon)"
   ]
  },
  {
   "cell_type": "markdown",
   "metadata": {
    "slideshow": {
     "slide_type": "slide"
    }
   },
   "source": [
    "## bitmap display of images"
   ]
  },
  {
   "cell_type": "code",
   "execution_count": null,
   "metadata": {
    "slideshow": {
     "slide_type": "slide"
    }
   },
   "outputs": [],
   "source": [
    "maxforplot=org_image_arr.max()*1.1;\n",
    "\n",
    "slice=10;\n",
    "plt.figure();\n",
    "ax=plt.subplot(1,2,1);\n",
    "plt.imshow(org_image_arr[slice,:,:,]);\n",
    "plt.colorbar();\n",
    "plt.clim(0,maxforplot);\n",
    "ax.set_title('OSEM with correct scatter')\n",
    "plt.axis('off');\n",
    "\n",
    "ax=plt.subplot(1,2,2);\n",
    "plt.imshow(osem_image_arr[slice,:,:,]);\n",
    "plt.clim(0,maxforplot);\n",
    "plt.colorbar();\n",
    "ax.set_title('OSEM with scatter estimation')\n",
    "plt.axis('off');"
   ]
  },
  {
   "cell_type": "markdown",
   "metadata": {
    "slideshow": {
     "slide_type": "slide"
    }
   },
   "source": [
    "## horizontal profiles through images"
   ]
  },
  {
   "cell_type": "code",
   "execution_count": null,
   "metadata": {
    "slideshow": {
     "slide_type": "slide"
    }
   },
   "outputs": [],
   "source": [
    "plt.figure();\n",
    "plt.plot(org_image_arr[10,154//2,:],'b');\n",
    "plt.plot(osem_image_arr[10,154//2,:],'c');\n",
    "plt.legend(('actual scatter','estimated scatter'));"
   ]
  },
  {
   "cell_type": "markdown",
   "metadata": {},
   "source": [
    "# Check by taking difference with measured data"
   ]
  },
  {
   "cell_type": "markdown",
   "metadata": {},
   "source": [
    "We will compare the original and estimated scatter with the \"remainder\", i.e. prompts - randoms - forward(osem_image). This will generally be\n",
    "- closer to the original scatter as the reconstruction tries to fit the image to the prompts\n",
    "- have high frequency differences due to underconvergence of OSEM (and noise of course)"
   ]
  },
  {
   "cell_type": "code",
   "execution_count": null,
   "metadata": {},
   "outputs": [],
   "source": [
    "rt_matrix = stir.ProjMatrixByBinUsingRayTracing()\n",
    "forward_projector = stir.ForwardProjectorByBinUsingProjMatrixByBin(rt_matrix)\n",
    "forward_projection = stir.ProjDataInMemory(prompts)\n",
    "forward_projector.set_up(forward_projection.get_proj_data_info(), osem_image)\n",
    "#forward_projection.fill(0)"
   ]
  },
  {
   "cell_type": "code",
   "execution_count": null,
   "metadata": {},
   "outputs": [],
   "source": [
    "forward_projector.forward_project(forward_projection, recon_image)\n",
    "\n",
    "full_norm.undo(forward_projection)"
   ]
  },
  {
   "cell_type": "code",
   "execution_count": null,
   "metadata": {},
   "outputs": [],
   "source": [
    "diff = to_numpy(stir.ProjDataInMemory(prompts) - stir.ProjDataInMemory(randoms) - forward_projection)"
   ]
  },
  {
   "cell_type": "code",
   "execution_count": null,
   "metadata": {},
   "outputs": [],
   "source": [
    "maxforplot=org_scatter_arr.max()*1.1;\n",
    "\n",
    "plt.figure()\n",
    "ax=plt.subplot(1,3,1);\n",
    "plt.imshow(org_scatter_arr[0,10,:,:,]);\n",
    "plt.clim(0,maxforplot)\n",
    "ax.set_title('Original simulated scatter');\n",
    "plt.axis('off');\n",
    "\n",
    "ax=plt.subplot(1,3,2);\n",
    "plt.imshow(estimated_scatter_arr[0,10,:,:,]);\n",
    "plt.clim(0,maxforplot);\n",
    "ax.set_title('estimated scatter');\n",
    "plt.axis('off');\n",
    "\n",
    "ax=plt.subplot(1,3,3);\n",
    "plt.imshow(diff[0,10,:,:,]);\n",
    "plt.clim(0,maxforplot);\n",
    "ax.set_title('remainder');\n",
    "plt.axis('off');"
   ]
  },
  {
   "cell_type": "code",
   "execution_count": null,
   "metadata": {},
   "outputs": [],
   "source": [
    "from scipy.ndimage import gaussian_filter"
   ]
  },
  {
   "cell_type": "code",
   "execution_count": null,
   "metadata": {},
   "outputs": [],
   "source": [
    "diff.shape"
   ]
  },
  {
   "cell_type": "code",
   "execution_count": null,
   "metadata": {},
   "outputs": [],
   "source": [
    "filtered = gaussian_filter(diff, (0,5,2,8))"
   ]
  },
  {
   "cell_type": "code",
   "execution_count": null,
   "metadata": {},
   "outputs": [],
   "source": [
    "plt.figure()\n",
    "plt.imshow(filtered[0,10,:,:])"
   ]
  },
  {
   "cell_type": "code",
   "execution_count": null,
   "metadata": {},
   "outputs": [],
   "source": [
    "# horizontal (one view)\n",
    "plt.figure()\n",
    "plt.plot(org_scatter_arr[0,10,1,:],'b', label='simulated')\n",
    "plt.plot(estimated_scatter_arr[0,10,1,:],'c', label='estimated')\n",
    "plt.plot(filtered[0,10,1,:],'c', label='remainder after filtering')\n",
    "plt.legend();"
   ]
  },
  {
   "cell_type": "code",
   "execution_count": null,
   "metadata": {},
   "outputs": [],
   "source": []
  }
 ],
 "metadata": {
  "kernelspec": {
   "display_name": "Python 3",
   "language": "python",
   "name": "python3"
  },
  "language_info": {
   "codemirror_mode": {
    "name": "ipython"
   },
   "file_extension": ".py",
   "mimetype": "text/x-python",
   "name": "python",
   "nbconvert_exporter": "python"
  }
 },
 "nbformat": 4,
 "nbformat_minor": 4
}
