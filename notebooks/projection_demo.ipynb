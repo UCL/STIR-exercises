{
 "cells": [
  {
   "cell_type": "code",
   "execution_count": null,
   "metadata": {
    "slideshow": {
     "slide_type": "slide"
    }
   },
   "outputs": [],
   "source": [
    "# -*- coding: utf-8 -*-\n",
    "\"\"\"\n",
    "Example script to forward/back-project some data.\n",
    "\n",
    "In this example, we will create projection data and images purely\n",
    "from within Python.\n",
    "    \n",
    "Note that the code that use geometric shapes below needs a version of STIR\n",
    "later than 3Nov2018. There are no other prerequisites (i.e. no script to run first!).\n",
    "\n",
    "Author: Kris Thielemans\n",
    "\"\"\""
   ]
  },
  {
   "cell_type": "code",
   "execution_count": null,
   "metadata": {},
   "outputs": [],
   "source": [
    "%matplotlib notebook"
   ]
  },
  {
   "cell_type": "markdown",
   "metadata": {
    "slideshow": {
     "slide_type": "slide"
    }
   },
   "source": [
    "# Initial imports"
   ]
  },
  {
   "cell_type": "code",
   "execution_count": null,
   "metadata": {
    "slideshow": {
     "slide_type": "slide"
    }
   },
   "outputs": [],
   "source": [
    "import stir\n",
    "import stirextra\n",
    "#import numpy\n",
    "import matplotlib.pyplot as plt"
   ]
  },
  {
   "cell_type": "markdown",
   "metadata": {
    "slideshow": {
     "slide_type": "slide"
    }
   },
   "source": [
    "# We first need to define a scanner"
   ]
  },
  {
   "cell_type": "code",
   "execution_count": null,
   "metadata": {
    "slideshow": {
     "slide_type": "slide"
    }
   },
   "outputs": [],
   "source": [
    "# STIR has multiple scanners predefined.\n",
    "print(stir.Scanner.list_all_names())"
   ]
  },
  {
   "cell_type": "markdown",
   "metadata": {
    "slideshow": {
     "slide_type": "slide"
    }
   },
   "source": [
    "# Let's use an old scanner that doesn't have too many detectors (for speed)"
   ]
  },
  {
   "cell_type": "code",
   "execution_count": null,
   "metadata": {
    "slideshow": {
     "slide_type": "slide"
    }
   },
   "outputs": [],
   "source": [
    "scanner=stir.Scanner.get_scanner_from_name(\"ECAT 931\")\n",
    "print(scanner.parameter_info())"
   ]
  },
  {
   "cell_type": "markdown",
   "metadata": {
    "slideshow": {
     "slide_type": "slide"
    }
   },
   "source": [
    "# Now we need to describe the actual size of the projection data"
   ]
  },
  {
   "cell_type": "code",
   "execution_count": null,
   "metadata": {
    "slideshow": {
     "slide_type": "slide"
    }
   },
   "outputs": [],
   "source": [
    "# We call this the `projection data information`.\n",
    "#\n",
    "# We will use a \"2D\" PET acquisition in this example.\n",
    "# This corresponds to `span=3`, with only 1 \"segment\".\n",
    "# You can ignore this terminology now, or check it out at\n",
    "# http://stir.sourceforge.net/documentation/STIR-glossary.pdf\n",
    "span=3;\n",
    "max_ring_diff=1;\n",
    "# use default number of \"views\" (or \"azimuthal angles\")\n",
    "num_views=scanner.get_num_detectors_per_ring()//2;\n",
    "# construct the objec\n",
    "proj_data_info=stir.ProjDataInfo.stir.ProjDataInfo.construct_proj_data_info(scanner,\n",
    "                                                 span, max_ring_diff,\n",
    "                                                 num_views, scanner.get_default_num_arccorrected_bins());"
   ]
  },
  {
   "cell_type": "markdown",
   "metadata": {
    "slideshow": {
     "slide_type": "slide"
    }
   },
   "source": [
    "# Create an empty image with suitable dimensions and voxel sizes"
   ]
  },
  {
   "cell_type": "code",
   "execution_count": null,
   "metadata": {
    "slideshow": {
     "slide_type": "slide"
    }
   },
   "outputs": [],
   "source": [
    "# This image will cover the whole FOV and having the \"traditional\"\n",
    "# z-spacing of half the scanner ring-distance. (STIR needs this at the moment).\n",
    "# For illustration, we use smaller voxels than the default (we \"zoom in\")\n",
    "zoom=1.2;\n",
    "image_data=stir.FloatVoxelsOnCartesianGrid(proj_data_info, zoom);"
   ]
  },
  {
   "cell_type": "markdown",
   "metadata": {
    "slideshow": {
     "slide_type": "slide"
    }
   },
   "source": [
    "# initialise a projection matrix"
   ]
  },
  {
   "cell_type": "code",
   "execution_count": null,
   "metadata": {
    "slideshow": {
     "slide_type": "slide"
    }
   },
   "outputs": [],
   "source": [
    "# Using ray-tracing here\n",
    "# Note that the default is to restrict the projection to a cylindrical FOV\n",
    "projmatrix=stir.ProjMatrixByBinUsingRayTracing();\n",
    "projmatrix.set_up(proj_data_info, image_data);"
   ]
  },
  {
   "cell_type": "markdown",
   "metadata": {
    "slideshow": {
     "slide_type": "slide"
    }
   },
   "source": [
    "# construct projectors"
   ]
  },
  {
   "cell_type": "code",
   "execution_count": null,
   "metadata": {
    "slideshow": {
     "slide_type": "slide"
    }
   },
   "outputs": [],
   "source": [
    "forwardprojector=stir.ForwardProjectorByBinUsingProjMatrixByBin(projmatrix);\n",
    "forwardprojector.set_up(proj_data_info, image_data);\n",
    "\n",
    "backprojector=stir.BackProjectorByBinUsingProjMatrixByBin(projmatrix);\n",
    "backprojector.set_up(proj_data_info, image_data);"
   ]
  },
  {
   "cell_type": "markdown",
   "metadata": {
    "slideshow": {
     "slide_type": "slide"
    }
   },
   "source": [
    "# create projection data for output of forward projection"
   ]
  },
  {
   "cell_type": "code",
   "execution_count": null,
   "metadata": {
    "slideshow": {
     "slide_type": "slide"
    }
   },
   "outputs": [],
   "source": [
    "# We'll create the data in memory here\n",
    "exam_info=stir.ExamInfo();\n",
    "projdataout=stir.ProjDataInMemory(exam_info, proj_data_info);\n",
    "# Note: we could write to file, but it is right now a bit complicated to open a\n",
    "#  projection data file for read/write:\n",
    "#  inout=stir.ios.trunc|stir.ios.ios_base_in|stir.ios.out;\n",
    "#  projdataout=stir.ProjDataInterfile(exam_info, proj_data_info, 'my_test_python_projection.hs',inout);"
   ]
  },
  {
   "cell_type": "markdown",
   "metadata": {
    "slideshow": {
     "slide_type": "slide"
    }
   },
   "source": [
    "# Done creating data and projectors!"
   ]
  },
  {
   "cell_type": "code",
   "execution_count": null,
   "metadata": {
    "slideshow": {
     "slide_type": "slide"
    }
   },
   "outputs": [],
   "source": [
    "# Let's now create an interesting image with 2 cylinders"
   ]
  },
  {
   "cell_type": "markdown",
   "metadata": {
    "slideshow": {
     "slide_type": "slide"
    }
   },
   "source": [
    "# create a first cylinder (note: units are in mm)"
   ]
  },
  {
   "cell_type": "code",
   "execution_count": null,
   "metadata": {
    "slideshow": {
     "slide_type": "slide"
    }
   },
   "outputs": [],
   "source": [
    "# we'll put it in the middle of the scanner\n",
    "# This is currently a bit difficult in STIR due to its\n",
    "# choice of origin (the middle of the first ring).\n",
    "length=60\n",
    "radius=40\n",
    "middle_slice=(image_data.get_max_z()+image_data.get_min_z())//2\n",
    "z_centre=middle_slice*image_data.get_voxel_size().z()\n",
    "# create a coordinate for the centre (note the z,y,x order)\n",
    "centre=stir.FloatCartesianCoordinate3D(z_centre,0,0)\n",
    "# create a geometrical shape\n",
    "shape=stir.EllipsoidalCylinder(length, radius, radius,\n",
    "                               centre)"
   ]
  },
  {
   "cell_type": "markdown",
   "metadata": {
    "slideshow": {
     "slide_type": "slide"
    }
   },
   "source": [
    "# we set the image to a discretised version of this shape"
   ]
  },
  {
   "cell_type": "code",
   "execution_count": null,
   "metadata": {
    "slideshow": {
     "slide_type": "slide"
    }
   },
   "outputs": [],
   "source": [
    "# (the last argument means we'll sample every voxel only once)\n",
    "shape.construct_volume(image_data, stir.IntCartesianCoordinate3D(1,1,1))"
   ]
  },
  {
   "cell_type": "markdown",
   "metadata": {
    "slideshow": {
     "slide_type": "slide"
    }
   },
   "source": [
    "# Let's add another translated cylinder"
   ]
  },
  {
   "cell_type": "code",
   "execution_count": null,
   "metadata": {
    "slideshow": {
     "slide_type": "slide"
    }
   },
   "outputs": [],
   "source": [
    "# The way to do this is currently still awkward. Apologies.\n",
    "shape.translate(stir.FloatCartesianCoordinate3D(15,90,40))\n",
    "# make a clone and fill that one with the second shape\n",
    "image_data2=image_data.clone()\n",
    "shape.construct_volume(image_data2, stir.IntCartesianCoordinate3D(1,1,1))\n",
    "# now add that to the previous one (currently messy as we need to pass through numpy, sorry)\n",
    "image_data_array=stirextra.to_numpy(image_data);\n",
    "image_data_array+=stirextra.to_numpy(image_data2);\n",
    "image_data.fill(image_data_array.flat)"
   ]
  },
  {
   "cell_type": "markdown",
   "metadata": {
    "slideshow": {
     "slide_type": "slide"
    }
   },
   "source": [
    "# display 2 transaxial slices of the volume"
   ]
  },
  {
   "cell_type": "code",
   "execution_count": null,
   "metadata": {
    "slideshow": {
     "slide_type": "slide"
    }
   },
   "outputs": [],
   "source": [
    "maxforplot=image_data.find_max(); # save for display\n",
    "image_data_array=stirextra.to_numpy(image_data);\n",
    "plt.figure();\n",
    "plt.subplot(1,2,1)\n",
    "plt.imshow(image_data_array[middle_slice,:,:]);\n",
    "plt.clim(0,maxforplot)\n",
    "plt.title('slice %d' % middle_slice)\n",
    "plt.subplot(1,2,2)\n",
    "plt.imshow(image_data_array[middle_slice+5,:,:]);\n",
    "plt.title('slice %d' % (middle_slice+5))\n",
    "plt.clim(0,maxforplot)"
   ]
  },
  {
   "cell_type": "markdown",
   "metadata": {
    "slideshow": {
     "slide_type": "slide"
    }
   },
   "source": [
    "# forward project the image!"
   ]
  },
  {
   "cell_type": "code",
   "execution_count": null,
   "metadata": {
    "slideshow": {
     "slide_type": "slide"
    }
   },
   "outputs": [],
   "source": [
    "forwardprojector.forward_project(projdataout, image_data);"
   ]
  },
  {
   "cell_type": "markdown",
   "metadata": {
    "slideshow": {
     "slide_type": "slide"
    }
   },
   "source": [
    "# get the output"
   ]
  },
  {
   "cell_type": "code",
   "execution_count": null,
   "metadata": {
    "slideshow": {
     "slide_type": "slide"
    }
   },
   "outputs": [],
   "source": [
    "# With the above settings, we are simulating an acquisition in \"2D\" mode for a\n",
    "# scanner with \"rings\" of detector crystals. There will therefore be only a\n",
    "# single \"segment\", corresponding to LORs which are (almost) orthogonal to the\n",
    "# scanner axis.\n",
    "seg=projdataout.get_segment_by_sinogram(0);"
   ]
  },
  {
   "cell_type": "markdown",
   "metadata": {
    "slideshow": {
     "slide_type": "slide"
    }
   },
   "source": [
    "# A note on projection data sizes"
   ]
  },
  {
   "cell_type": "code",
   "execution_count": null,
   "metadata": {
    "slideshow": {
     "slide_type": "slide"
    }
   },
   "outputs": [],
   "source": [
    "# Segment 0 is a 3D array of size\n",
    "#    num_sinograms x num_views x num_tangential_positions.\n",
    "# with the order of the indices as above if we ask for the data \"by sinogram\"\n",
    "# As we used \"span\">1, there will be both \"direct\" and \"indirect\" sinograms.\n",
    "# (Don't worry if you don't know the relevant terminology.)\n",
    "# We will therefore have the same number of sinograms as slices\n",
    "# in the image (both equal to 2*num_rings-1).\n",
    "print(seg.shape())\n",
    "print(image_data.shape())\n",
    "print(scanner.get_num_rings())"
   ]
  },
  {
   "cell_type": "markdown",
   "metadata": {
    "slideshow": {
     "slide_type": "slide"
    }
   },
   "source": [
    "# Display the data"
   ]
  },
  {
   "cell_type": "code",
   "execution_count": null,
   "metadata": {
    "slideshow": {
     "slide_type": "slide"
    }
   },
   "outputs": [],
   "source": [
    "# We'll display a single sinogram and a horizontal profile (i.e. projections\n",
    "# for a single \"slice\" and \"view\"), but you could display the data in another cut of course.\n",
    "seg_array=stirextra.to_numpy(seg);\n",
    "plt.figure();\n",
    "plt.subplot(1,3,1)\n",
    "plt.imshow(seg_array[middle_slice,:,:]);\n",
    "plt.title('projection as sinogram')\n",
    "plt.xlabel('tangential')\n",
    "plt.ylabel('view')\n",
    "plt.subplot(1,3,2)\n",
    "plt.imshow(seg_array[:,0,:]);\n",
    "plt.title('projection at first view')\n",
    "plt.xlabel('tangential')\n",
    "plt.ylabel('plane')\n",
    "plt.subplot(1,3,3)\n",
    "plt.plot(seg_array[middle_slice,0,:])\n",
    "plt.plot(seg_array[middle_slice,proj_data_info.get_num_views()//2,:])\n",
    "plt.title('Horizontal profiles\\n(middle sinogram)');\n",
    "plt.legend(('first view', 'middle view'));"
   ]
  },
  {
   "cell_type": "markdown",
   "metadata": {
    "slideshow": {
     "slide_type": "slide"
    }
   },
   "source": [
    "# display all sinograms in a (repeated) loop"
   ]
  },
  {
   "cell_type": "code",
   "execution_count": null,
   "metadata": {
    "slideshow": {
     "slide_type": "slide"
    }
   },
   "outputs": [],
   "source": [
    "#%% It might make more sense to you if you display every view in the animation\n",
    "# (as in the evaluate_simulation* scripts), so you could try this as well.\n",
    "import matplotlib.animation as animation\n",
    "bitmaps=[]\n",
    "fig=plt.figure()\n",
    "for sino in range(seg_array.shape[0]):\n",
    "    bitmap=plt.imshow(seg_array[sino,:,:]);\n",
    "    plt.clim(0,seg_array.max())\n",
    "    plt.axis('off');\n",
    "    bitmaps.append([bitmap])\n",
    "\n",
    "ani = animation.ArtistAnimation(fig, bitmaps, interval=100, blit=True, repeat_delay=1000)"
   ]
  },
  {
   "cell_type": "markdown",
   "metadata": {
    "slideshow": {
     "slide_type": "slide"
    }
   },
   "source": [
    "# backproject this projection data"
   ]
  },
  {
   "cell_type": "code",
   "execution_count": null,
   "metadata": {
    "slideshow": {
     "slide_type": "slide"
    }
   },
   "outputs": [],
   "source": [
    "# we will do this into a new image of the same geometry as the original\n",
    "back_projection=image_data.get_empty_copy()\n",
    "backprojector.back_project(back_projection, projdataout);"
   ]
  },
  {
   "cell_type": "markdown",
   "metadata": {
    "slideshow": {
     "slide_type": "slide"
    }
   },
   "source": [
    "# display the same slices as above"
   ]
  },
  {
   "cell_type": "code",
   "execution_count": null,
   "metadata": {
    "slideshow": {
     "slide_type": "slide"
    }
   },
   "outputs": [],
   "source": [
    "maxforplot=back_projection.find_max(); # save for display\n",
    "back_projection_array=stirextra.to_numpy(back_projection);\n",
    "plt.figure();\n",
    "plt.subplot(1,2,1)\n",
    "plt.imshow(back_projection_array[middle_slice,:,:]);\n",
    "plt.clim(0,maxforplot)\n",
    "plt.title('Back-projection, plane %d' % middle_slice)\n",
    "plt.subplot(1,2,2)\n",
    "plt.imshow(back_projection_array[middle_slice+5,:,:]);\n",
    "plt.title('Back-projection, plane %d' % (middle_slice+5))\n",
    "plt.clim(0,maxforplot);"
   ]
  },
  {
   "cell_type": "markdown",
   "metadata": {
    "slideshow": {
     "slide_type": "slide"
    }
   },
   "source": [
    "# Preliminary conclusion"
   ]
  },
  {
   "cell_type": "code",
   "execution_count": null,
   "metadata": {
    "slideshow": {
     "slide_type": "slide"
    }
   },
   "outputs": [],
   "source": [
    "# This should show that simple backprojection gives a smooth version of the\n",
    "# original image back. It's therefore useful as a sanity check.\n",
    "# Actual image reconstruction needs to work a bit harder..."
   ]
  },
  {
   "cell_type": "markdown",
   "metadata": {
    "slideshow": {
     "slide_type": "slide"
    }
   },
   "source": [
    "# Let's do a few minimal experiments on changing the projector"
   ]
  },
  {
   "cell_type": "code",
   "execution_count": null,
   "metadata": {
    "slideshow": {
     "slide_type": "slide"
    }
   },
   "outputs": [],
   "source": [
    "#"
   ]
  },
  {
   "cell_type": "markdown",
   "metadata": {
    "slideshow": {
     "slide_type": "slide"
    }
   },
   "source": [
    "# For this experiment, we will use a larger cylinder in the centre"
   ]
  },
  {
   "cell_type": "code",
   "execution_count": null,
   "metadata": {
    "slideshow": {
     "slide_type": "slide"
    }
   },
   "outputs": [],
   "source": [
    "length=60\n",
    "radius=200\n",
    "middle_slice=(image_data.get_max_z()+image_data.get_min_z())//2\n",
    "z_centre=middle_slice*image_data.get_voxel_size().z()\n",
    "centre=stir.FloatCartesianCoordinate3D(z_centre,0,0)\n",
    "shape=stir.EllipsoidalCylinder(length, radius, radius,\n",
    "                               centre)\n",
    "shape.construct_volume(image_data, stir.IntCartesianCoordinate3D(1,1,1))"
   ]
  },
  {
   "cell_type": "markdown",
   "metadata": {
    "slideshow": {
     "slide_type": "slide"
    }
   },
   "source": [
    "# forward project it and display"
   ]
  },
  {
   "cell_type": "code",
   "execution_count": null,
   "metadata": {
    "slideshow": {
     "slide_type": "slide"
    }
   },
   "outputs": [],
   "source": [
    "forwardprojector.forward_project(projdataout, image_data);\n",
    "seg=projdataout.get_segment_by_sinogram(0);\n",
    "seg_array=stirextra.to_numpy(seg);\n",
    "plt.figure();\n",
    "plt.imshow(seg_array[middle_slice,:,:]);\n",
    "plt.title('Forward projection');"
   ]
  },
  {
   "cell_type": "markdown",
   "metadata": {
    "slideshow": {
     "slide_type": "slide"
    }
   },
   "source": [
    "# back-projection and display"
   ]
  },
  {
   "cell_type": "code",
   "execution_count": null,
   "metadata": {
    "slideshow": {
     "slide_type": "slide"
    }
   },
   "outputs": [],
   "source": [
    "# This shows a beautiful pattern, a well-known feature of a ray-tracing matrix\n",
    "back_projection.fill(0) # set to zero, otherwise it will add to the previous results\n",
    "backprojector.back_project(back_projection, projdataout);\n",
    "back_projection_array=stirextra.to_numpy(back_projection);\n",
    "plt.figure();\n",
    "plt.imshow(back_projection_array[middle_slice,:,:]);"
   ]
  },
  {
   "cell_type": "markdown",
   "metadata": {
    "slideshow": {
     "slide_type": "slide"
    }
   },
   "source": [
    "# Let's use more LORs per sinogram bin (which will be a bit slower of course)"
   ]
  },
  {
   "cell_type": "code",
   "execution_count": null,
   "metadata": {
    "slideshow": {
     "slide_type": "slide"
    }
   },
   "outputs": [],
   "source": [
    "projmatrix.set_num_tangential_LORs(10);\n",
    "# Need to call set_up again\n",
    "projmatrix.set_up(proj_data_info, image_data);"
   ]
  },
  {
   "cell_type": "markdown",
   "metadata": {
    "slideshow": {
     "slide_type": "slide"
    }
   },
   "source": [
    "# You could re-run the forward projection, but we'll skip that for now"
   ]
  },
  {
   "cell_type": "code",
   "execution_count": null,
   "metadata": {
    "slideshow": {
     "slide_type": "slide"
    }
   },
   "outputs": [],
   "source": [
    "# The output will be almost identical anyway.\n",
    "# forwardprojector.forward_project(projdataout, image_data);"
   ]
  },
  {
   "cell_type": "markdown",
   "metadata": {
    "slideshow": {
     "slide_type": "slide"
    }
   },
   "source": [
    "# Run another backprojection and display"
   ]
  },
  {
   "cell_type": "code",
   "execution_count": null,
   "metadata": {
    "slideshow": {
     "slide_type": "slide"
    }
   },
   "outputs": [],
   "source": [
    "back_projection_10=back_projection.get_empty_copy()\n",
    "backprojector.back_project(back_projection_10, projdataout);\n",
    "back_projection_10_array=stirextra.to_numpy(back_projection_10);\n",
    "plt.figure();\n",
    "plt.subplot(1,2,1)\n",
    "plt.imshow(back_projection_10_array[middle_slice,:,:]);\n",
    "plt.title('Back-projection with 10 LORs per bin')\n",
    "plt.subplot(1,2,2)\n",
    "plt.plot(back_projection_10_array[middle_slice,80,:]);"
   ]
  },
  {
   "cell_type": "markdown",
   "metadata": {
    "slideshow": {
     "slide_type": "slide"
    }
   },
   "source": [
    "# compare profiles to check if overall features are fine"
   ]
  },
  {
   "cell_type": "code",
   "execution_count": null,
   "metadata": {
    "slideshow": {
     "slide_type": "slide"
    }
   },
   "outputs": [],
   "source": [
    "plt.figure()\n",
    "plt.plot(back_projection_array[middle_slice,80,:])\n",
    "plt.plot(back_projection_10_array[middle_slice,80,:])\n",
    "plt.title('comparing both profiles');"
   ]
  },
  {
   "cell_type": "markdown",
   "metadata": {
    "slideshow": {
     "slide_type": "slide"
    }
   },
   "source": [
    "# What now?"
   ]
  },
  {
   "cell_type": "code",
   "execution_count": null,
   "metadata": {
    "slideshow": {
     "slide_type": "slide"
    }
   },
   "outputs": [],
   "source": [
    "# You have all the basic tools to do a simple analytic PET simulation\n",
    "# (no attenuation etc here yet though).\n",
    "# You can also add other shapes (stir.Ellipsoid etc), or just make them yourself\n",
    "# using numpy commands"
   ]
  }
 ],
 "metadata": {
  "kernelspec": {
   "display_name": "Python 3",
   "language": "python",
   "name": "python3"
  },
  "language_info": {
   "codemirror_mode": {
    "name": "ipython"
   },
   "file_extension": ".py",
   "mimetype": "text/x-python",
   "name": "python",
   "nbconvert_exporter": "python"
  }
 },
 "nbformat": 4,
 "nbformat_minor": 4
}
